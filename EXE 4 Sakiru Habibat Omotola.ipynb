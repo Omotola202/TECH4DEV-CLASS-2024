{
 "cells": [
  {
   "cell_type": "markdown",
   "id": "a5194a07",
   "metadata": {},
   "source": [
    "# Question 1\n",
    "Pattern 1\n"
   ]
  },
  {
   "cell_type": "code",
   "execution_count": 1,
   "id": "a2f90c7c",
   "metadata": {},
   "outputs": [
    {
     "name": "stdout",
     "output_type": "stream",
     "text": [
      "+----+\n",
      "\\   /\n",
      "/   \\\n",
      "\\   /\n",
      "/   \\\n",
      "\\   /\n",
      "/   \\\n",
      "+----+\n"
     ]
    }
   ],
   "source": [
    "print(\"+----+\")\n",
    "for i in range(3):\n",
    "    print(\"\\\\   /\")\n",
    "    print(\"/   \\\\\")\n",
    "print(\"+----+\")\n"
   ]
  },
  {
   "cell_type": "markdown",
   "id": "8bc3439f",
   "metadata": {},
   "source": [
    "# Question 2\n",
    "Pattern 2"
   ]
  },
  {
   "cell_type": "code",
   "execution_count": 2,
   "id": "e1214782",
   "metadata": {},
   "outputs": [
    {
     "name": "stdout",
     "output_type": "stream",
     "text": [
      "**********\n",
      "**********\n",
      "**********\n",
      "**********\n",
      "**********\n"
     ]
    }
   ],
   "source": [
    "\n",
    "for i in range(5):\n",
    "    print(\"**********\")\n"
   ]
  },
  {
   "cell_type": "markdown",
   "id": "d99014f8",
   "metadata": {},
   "source": [
    "# Question 3\n"
   ]
  },
  {
   "cell_type": "code",
   "execution_count": 3,
   "id": "9777f032",
   "metadata": {},
   "outputs": [
    {
     "name": "stdout",
     "output_type": "stream",
     "text": [
      "1 2 8 9 3 94 -8\n",
      "2 4 21 8 6 95 -10\n",
      "3 6 34 7 11 96 -12\n",
      "4 8 47 6 18 97 -14\n",
      "5 10 60 5 27 98 -16\n",
      "6 12 73 4 38 99 -18\n"
     ]
    }
   ],
   "source": [
    "\n",
    "for x in range(1, 7):\n",
    "    a = x\n",
    "    b = x * 2\n",
    "    c = x * 13 - 5\n",
    "    d = 10 - x\n",
    "    e = x ** 2 + 2\n",
    "    f = 93 + x\n",
    "    g = x * -2 - 6\n",
    "    \n",
    "    print(f\"{a} {b} {c} {d} {e} {f} {g}\")\n"
   ]
  },
  {
   "cell_type": "markdown",
   "id": "e599e918",
   "metadata": {},
   "source": [
    "# Question 4\n",
    "Write a program to produce the following output using loops. \n",
    "then use a class constantt to make it possible to change the number of lines in the figur. \n",
    "1\n",
    "22\n",
    "333\n",
    "4444\n",
    "55555\n",
    "666666\n",
    "7777777"
   ]
  },
  {
   "cell_type": "code",
   "execution_count": 4,
   "id": "a6bb0617",
   "metadata": {},
   "outputs": [
    {
     "name": "stdout",
     "output_type": "stream",
     "text": [
      "1 \n",
      "2 2 \n",
      "3 3 3 \n",
      "4 4 4 4 \n",
      "5 5 5 5 5 \n",
      "6 6 6 6 6 6 \n",
      "7 7 7 7 7 7 7 \n"
     ]
    }
   ],
   "source": [
    "class NumberTriangle:\n",
    "\n",
    "    NUM_LINES = 7  # Class constant to define the number of lines\n",
    "    \n",
    "    def print_triangle(self):\n",
    "        for i in range(1, self.NUM_LINES + 1):\n",
    "            for j in range (i):\n",
    "                print(i, end = \" \")\n",
    "            print()\n",
    "\n",
    "# Create an instance of the NumberTriangle class\n",
    "triangle = NumberTriangle()\n",
    "\n",
    "# Print the number triangle\n",
    "triangle.print_triangle()\n",
    "\n"
   ]
  },
  {
   "cell_type": "markdown",
   "id": "512c2ab1",
   "metadata": {},
   "source": [
    "# Question 5\n",
    "Write a method named pay that accepts two parameters: a real number for a TA’s salary, and an integer for the number of hours the TA worked this week. The method should return how much money to pay the TA. For example, the call pay(5.50, 6) should return 33.0. The TA should receive “overtime” pay of 1 ½ normal salary for any hours above 8. For example, the call pay(4.00, 11) should return (4.00 * 8) + (6.00 * 3) or 50.0."
   ]
  },
  {
   "cell_type": "code",
   "execution_count": 5,
   "id": "aea631b5",
   "metadata": {},
   "outputs": [
    {
     "name": "stdout",
     "output_type": "stream",
     "text": [
      "33.0\n",
      "50.0\n"
     ]
    }
   ],
   "source": [
    "def pay(salary, hours):\n",
    "    normal_hours = 8  # Normal hours for regular pay\n",
    "    overtime_rate = 1.5  # Overtime rate for extra hours\n",
    "\n",
    "    if hours <= normal_hours:\n",
    "        # Calculate payment for normal hours\n",
    "        total_pay = salary * hours\n",
    "    else:\n",
    "        # Calculate payment for normal hours\n",
    "        normal_pay = salary * normal_hours\n",
    "        \n",
    "        # Calculate payment for overtime hours\n",
    "        overtime_hours = hours - normal_hours\n",
    "        overtime_pay = salary * overtime_rate * overtime_hours\n",
    "        \n",
    "        # Total payment including overtime1\n",
    "        total_pay = normal_pay + overtime_pay\n",
    "\n",
    "    return total_pay\n",
    "# Examples of using the pay function\n",
    "print(pay(5.50, 6))  # Output: 33.0\n",
    "print(pay(4.00, 11)) # Output: 50.0\n",
    "\n"
   ]
  },
  {
   "cell_type": "markdown",
   "id": "719f6a66",
   "metadata": {},
   "source": [
    "# Question 6\n",
    "Consider the following method for converting milliseconds into days: // converts milliseconds to days def toDays(millis): return millis / 1000.0 / 60.0 / 60.0 / 24.0 Write a similar method named area that takes as a parameter the radius of a circle and that returns the area of the circle. For example, the call area(2.0); should return 12.566370614359172. Recall that area can be computed as π times the radius squared and that Python has a constant called math.pi\n"
   ]
  },
  {
   "cell_type": "code",
   "execution_count": 6,
   "id": "6ff39aa5",
   "metadata": {},
   "outputs": [
    {
     "name": "stdout",
     "output_type": "stream",
     "text": [
      "12.566370614359172\n"
     ]
    }
   ],
   "source": [
    "import math\n",
    "def area(radius):\n",
    "    return math.pi * radius ** 2\n",
    "# Example of using the area function with a radius of 2.0\n",
    "result = area(2.0)\n",
    "print(result) # Output: 12.566370614359172\n"
   ]
  },
  {
   "cell_type": "markdown",
   "id": "ce50c41f",
   "metadata": {},
   "source": [
    "# Question 7\n",
    "Copy and paste the following code into pythons IDLE script environment. \n",
    "Low = 1 high = 1001 sum = 0 for I in range(low,high): sum += i\n",
    "\n",
    "Print(“sum = “ , sum)\n",
    "\n",
    "Modify the code to use a input to prompt the user for the values of low and high. \n",
    "Below is a sample execution in which the user asks for the same values as in the original program (1 through 1000): low? 1 high? 1001 sum = 500500 \n",
    "Below is an execution with different values for low and high: low? 300 high? 5298 sum = 13986903 You should exactly reproduce this format.\n"
   ]
  },
  {
   "cell_type": "code",
   "execution_count": 7,
   "id": "224707d8",
   "metadata": {},
   "outputs": [
    {
     "name": "stdout",
     "output_type": "stream",
     "text": [
      "low? 5\n",
      "high? 9\n",
      "sum = 26\n"
     ]
    }
   ],
   "source": [
    "low = int(input(\"low? \"))\n",
    "high = int(input(\"high? \"))\n",
    "sum = 0\n",
    "for i in range(low, high):\n",
    "    sum += i\n",
    "print(\"sum =\", sum)\n"
   ]
  },
  {
   "cell_type": "markdown",
   "id": "3efc868f",
   "metadata": {},
   "source": [
    "# Question 8\n",
    "Write a program using while loop that prompts the user for numbers until the user types 0, then outputs their sum\n"
   ]
  },
  {
   "cell_type": "code",
   "execution_count": 8,
   "id": "17d68f73",
   "metadata": {},
   "outputs": [
    {
     "name": "stdout",
     "output_type": "stream",
     "text": [
      "Enter a number (0 to stop): 8\n",
      "Enter a number (0 to stop): 9\n",
      "Enter a number (0 to stop): 43\n",
      "Enter a number (0 to stop): 8\n",
      "Enter a number (0 to stop): 3\n",
      "Enter a number (0 to stop): 0\n",
      "The sum of the numbers entered is: 71\n"
     ]
    }
   ],
   "source": [
    "# Initialize sum and prompt user for numbers\n",
    "sum = 0\n",
    "number = int(input(\"Enter a number (0 to stop): \"))\n",
    "\n",
    "# Continue prompting until the user enters 0\n",
    "while number != 0:\n",
    "    sum += number\n",
    "    number = int(input(\"Enter a number (0 to stop): \"))\n",
    "\n",
    "# Output the sum\n",
    "print(\"The sum of the numbers entered is:\", sum)\n"
   ]
  },
  {
   "cell_type": "markdown",
   "id": "f9210f1c",
   "metadata": {},
   "source": [
    "# Question 9\n",
    "Write a program using while loop that prompts the user for numbers until the user types -1, then outputs their sum\n"
   ]
  },
  {
   "cell_type": "code",
   "execution_count": 13,
   "id": "0db77697",
   "metadata": {},
   "outputs": [
    {
     "name": "stdout",
     "output_type": "stream",
     "text": [
      "Enter a number (enter -1 to stop): 9\n",
      "Enter a number (enter -1 to stop): 7\n",
      "Enter a number (enter -1 to stop): 0\n",
      "Enter a number (enter -1 to stop): 5\n",
      "Enter a number (enter -1 to stop): -1\n",
      "Sum of entered numbers: 21.0\n"
     ]
    }
   ],
   "source": [
    "\n",
    "# Initialize sum\n",
    "sum = 0\n",
    "# Prompt the user for numbers until -1 is entered\n",
    "while True:\n",
    "    num = float(input(\"Enter a number (enter -1 to stop): \"))\n",
    "    # Break the loop if the user enters -1\n",
    "    if num == -1:\n",
    "        break\n",
    "    # Add the entered number to the sum\n",
    "    sum += num\n",
    "print(\"Sum of entered numbers:\", sum)\n",
    "\n"
   ]
  },
  {
   "cell_type": "markdown",
   "id": "8bf89cb8",
   "metadata": {},
   "source": [
    "# Question 10\n",
    "Write a method named repl that accepts a String and a number of repetitions as parameters and returns the String concatenated that many times.\n",
    "For example, the call repl(“hello”, 3) returns “hellohellohello”.\n",
    "If the number of repetitions is 0 or less, an empty string is returned.\n"
   ]
  },
  {
   "cell_type": "code",
   "execution_count": 14,
   "id": "476d6aa3",
   "metadata": {},
   "outputs": [
    {
     "name": "stdout",
     "output_type": "stream",
     "text": [
      "hellohellohello\n"
     ]
    }
   ],
   "source": [
    "def repl(string, repetitions):\n",
    "    if repetitions <= 0:\n",
    "        return \"\"  # Return an empty string for 0 or negative repetitions\n",
    "    else:\n",
    "        return string * repetitions  # Concatenate the string ‘repetitions’ times\n",
    "# Example of using the repl function\n",
    "result = repl(\"hello\", 3)\n",
    "print(result)  # Output: “hellohellohello”\n"
   ]
  },
  {
   "cell_type": "markdown",
   "id": "c0a6a987",
   "metadata": {},
   "source": [
    "# Question 11\n",
    "Write a method called printRange that accepts two integers as arguments and prints the sequence of numbers between the two arguments, separated by spaces. \n",
    "Print an increasing sequence if the first argument is smaller than the second; otherwise,\n",
    "print a decreasing sequence. If the two numbers are the same, that number should be printed by itself.\n",
    "Here are some sample calls to printRange: printRange(2, 7) printRange(19, 11) printRange(5, 5) \n",
    "    The output produced should be the following: 2 3 4 5 6 7 19 18 17 16 15 14 13 12 11 5\n"
   ]
  },
  {
   "cell_type": "code",
   "execution_count": 20,
   "id": "3a3ab4a9",
   "metadata": {},
   "outputs": [
    {
     "name": "stdout",
     "output_type": "stream",
     "text": [
      "2 3 4 5 6 7 \n",
      "19 18 17 16 15 14 13 12 11 \n",
      "5\n"
     ]
    }
   ],
   "source": [
    "# Let x and y represent the two integers\n",
    "def printRange(x, y):\n",
    "    if x < y:\n",
    "        for I in range(x, y + 1):\n",
    "            print(I, end=\" \")\n",
    "    elif x > y:\n",
    "        for i in range(x, y - 1, -1):\n",
    "            print(i, end=\" \")\n",
    "    else:\n",
    "        print(x)\n",
    "\n",
    "printRange(2, 7)\n",
    "print()  # Print an empty line for separation\n",
    "printRange(19, 11)\n",
    "print()  # Print an empty line for separation\n",
    "printRange(5, 5)\n",
    "\n",
    "\n"
   ]
  },
  {
   "cell_type": "markdown",
   "id": "598aed2b",
   "metadata": {},
   "source": [
    "# Question 12\n",
    "Write a method named smallestLargest that asks the user to enter numbers,then prints the smallest and largest of all the numbers typed in by the user. \n",
    "You may assume the user enters a valid number greater than 0 for the number of numbers to read. \n",
    "Here is an example dialogue:\n",
    "    How many numbers do you want to enter? 4 Number 1: 5 Number 2: 11 Number 3: -2 Number 4: 3 Smallest = -2 Largest = 11\n",
    "\n"
   ]
  },
  {
   "cell_type": "code",
   "execution_count": 22,
   "id": "dc62441c",
   "metadata": {},
   "outputs": [
    {
     "name": "stdout",
     "output_type": "stream",
     "text": [
      "How many numbers do you want to enter? 3\n",
      "Number 1: 6\n",
      "Number 2: 12\n",
      "Number 3: 45\n",
      "Smallest = 6.0\n",
      "Largest = 45.0\n"
     ]
    }
   ],
   "source": [
    "def smallestLargest():\n",
    "    count = int(input(\"How many numbers do you want to enter? \"))\n",
    "    \n",
    "    if count <= 0:\n",
    "        print(\"Invalid input. Please enter a valid number greater than 0.\")\n",
    "        return\n",
    "\n",
    "    smallest = float('inf')  # Initialize smallest to positive infinity\n",
    "    largest = float('-inf')  # Initialize largest to negative infinity\n",
    "\n",
    "    for i in range(1, count + 1):\n",
    "        num = float(input(\"Number {}: \".format(i)))\n",
    "\n",
    "        # Update smallest and largest\n",
    "        smallest = min(smallest, num)\n",
    "        largest = max(largest, num)\n",
    "\n",
    "    print(\"Smallest =\", smallest)\n",
    "    print(\"Largest =\", largest)\n",
    "\n",
    "# Call the method\n",
    "smallestLargest()\n"
   ]
  },
  {
   "cell_type": "markdown",
   "id": "c638efff",
   "metadata": {},
   "source": [
    "# Question 13\n",
    "Write a method called printAverage that uses a sentinel loop to repeatedly prompt the user for numbers. Once the user types any number less than zero, the method should display the average of all nonnegative numbers typed. Display the average as a double. Here is a sample dialogue with the user: Type a number: 7 Type a number: 4 Type a number: 16 Type a number: –4 Average was 9.0 If the first number that the user types is negative, do not print an average: Type a number: –2\n"
   ]
  },
  {
   "cell_type": "code",
   "execution_count": 23,
   "id": "bb1d9df3",
   "metadata": {},
   "outputs": [
    {
     "name": "stdout",
     "output_type": "stream",
     "text": [
      "Enter a number: 87\n",
      "Enter a number: 90\n",
      "Enter a number: 9\n",
      "Enter a number: 54\n",
      "Enter a number: 65\n",
      "Enter a number: 43\n",
      "Enter a number: 34\n",
      "Enter a number: 23\n",
      "Enter a number: 242\n",
      "Enter a number: -5\n",
      "Average was 71.88888888888889\n"
     ]
    }
   ],
   "source": [
    "def printAverage():\n",
    "    total = 0.0\n",
    "    count = 0\n",
    "\n",
    "    while True:\n",
    "        num = float(input(\"Enter a number: \"))\n",
    "        \n",
    "        if num < 0:\n",
    "            if count == 0:\n",
    "                print(\"No non-negative numbers entered.\")\n",
    "            else:\n",
    "                average = total / count\n",
    "                print(\"Average was\", average)\n",
    "            break\n",
    "        \n",
    "        total += num\n",
    "        count += 1\n",
    "        \n",
    "# Call the method\n",
    "printAverage()\n"
   ]
  },
  {
   "cell_type": "markdown",
   "id": "66f3fed9",
   "metadata": {},
   "source": [
    "# Question 14\n",
    "Question 14\n",
    "Write a method named numUnique that takes three integers as parameters and returns the number of unique integers among the three. For example, the call numUnique(18, 3, 4) should return 3 because the parameters have three different values. By contrast, the call numUnique(6, 7, 6)should return 2 because there are only two unique numbers among the three parameters: 6 and 7\n"
   ]
  },
  {
   "cell_type": "code",
   "execution_count": 25,
   "id": "b3226412",
   "metadata": {},
   "outputs": [
    {
     "name": "stdout",
     "output_type": "stream",
     "text": [
      "3\n",
      "2\n"
     ]
    }
   ],
   "source": [
    "def numUnique(num1, num2, num3):\n",
    "    unique_numbers = set([num1, num2, num3])\n",
    "    return len(unique_numbers)\n",
    "\n",
    "\n",
    "list_1 = numUnique(18, 3, 4)\n",
    "list_2 = numUnique(6, 7, 6)\n",
    "\n",
    "print(list_1)  \n",
    "print(list_2)\n"
   ]
  },
  {
   "cell_type": "markdown",
   "id": "51887188",
   "metadata": {},
   "source": [
    "# Question 15 \n",
    "Question 15\n",
    "A Random object generates pseudo-random numbers. Find out how to use the Random class and write a program that simulates rolling of two 6-sided dice until their combined result comes up as 7. One possible output can be seen as below: 2 + 4 = 6 3 + 5 = 8 5 + 6 = 11 1 + 1 = 2 4 + 3 = 7 You won after 5 tries!\n",
    "\n"
   ]
  },
  {
   "cell_type": "code",
   "execution_count": 28,
   "id": "1dfc27b3",
   "metadata": {},
   "outputs": [
    {
     "name": "stdout",
     "output_type": "stream",
     "text": [
      "2 + 3 = 5\n",
      "4 + 1 = 5\n",
      "3 + 3 = 6\n",
      "2 + 6 = 8\n",
      "2 + 5 = 7\n",
      "You won after 5 tries\n"
     ]
    }
   ],
   "source": [
    "import random\n",
    "\n",
    "def roll_dice():\n",
    "    return random.randint(1, 6)\n",
    "\n",
    "def simulate_dice_roll():\n",
    "    tries = 0\n",
    "\n",
    "    while True:\n",
    "        dice1 = roll_dice()\n",
    "        dice2 = roll_dice()\n",
    "        total = dice1 + dice2\n",
    "\n",
    "        print(f\"{dice1} + {dice2} = {total}\")\n",
    "\n",
    "        tries += 1\n",
    "\n",
    "        if total == 7:\n",
    "            print(f\"You won after {tries} tries\")\n",
    "            break\n",
    "\n",
    "# Call the simulation\n",
    "simulate_dice_roll()\n"
   ]
  },
  {
   "cell_type": "code",
   "execution_count": null,
   "id": "48120316",
   "metadata": {},
   "outputs": [],
   "source": []
  },
  {
   "cell_type": "code",
   "execution_count": null,
   "id": "22382be2",
   "metadata": {},
   "outputs": [],
   "source": []
  },
  {
   "cell_type": "code",
   "execution_count": null,
   "id": "f8c939d3",
   "metadata": {},
   "outputs": [],
   "source": []
  },
  {
   "cell_type": "code",
   "execution_count": null,
   "id": "b9d46a7e",
   "metadata": {},
   "outputs": [],
   "source": []
  },
  {
   "cell_type": "code",
   "execution_count": null,
   "id": "4186d95e",
   "metadata": {},
   "outputs": [],
   "source": []
  },
  {
   "cell_type": "code",
   "execution_count": null,
   "id": "4cbfefde",
   "metadata": {},
   "outputs": [],
   "source": []
  },
  {
   "cell_type": "code",
   "execution_count": null,
   "id": "6a246c88",
   "metadata": {},
   "outputs": [],
   "source": []
  },
  {
   "cell_type": "code",
   "execution_count": null,
   "id": "62ebf8cb",
   "metadata": {},
   "outputs": [],
   "source": []
  },
  {
   "cell_type": "code",
   "execution_count": null,
   "id": "8b8c8bc5",
   "metadata": {},
   "outputs": [],
   "source": []
  },
  {
   "cell_type": "code",
   "execution_count": null,
   "id": "d86bad4b",
   "metadata": {},
   "outputs": [],
   "source": []
  },
  {
   "cell_type": "code",
   "execution_count": null,
   "id": "a5f396d9",
   "metadata": {},
   "outputs": [],
   "source": []
  },
  {
   "cell_type": "code",
   "execution_count": null,
   "id": "bb324bee",
   "metadata": {},
   "outputs": [],
   "source": []
  },
  {
   "cell_type": "code",
   "execution_count": null,
   "id": "73ec2304",
   "metadata": {},
   "outputs": [],
   "source": []
  },
  {
   "cell_type": "code",
   "execution_count": null,
   "id": "07b13908",
   "metadata": {},
   "outputs": [],
   "source": []
  },
  {
   "cell_type": "code",
   "execution_count": null,
   "id": "577ce5fc",
   "metadata": {},
   "outputs": [],
   "source": []
  },
  {
   "cell_type": "code",
   "execution_count": null,
   "id": "2e4d2179",
   "metadata": {},
   "outputs": [],
   "source": []
  },
  {
   "cell_type": "code",
   "execution_count": null,
   "id": "80101d6c",
   "metadata": {},
   "outputs": [],
   "source": []
  },
  {
   "cell_type": "code",
   "execution_count": null,
   "id": "6497fdcd",
   "metadata": {},
   "outputs": [],
   "source": []
  },
  {
   "cell_type": "code",
   "execution_count": null,
   "id": "1e8f9030",
   "metadata": {},
   "outputs": [],
   "source": []
  },
  {
   "cell_type": "code",
   "execution_count": null,
   "id": "b0b13fa4",
   "metadata": {},
   "outputs": [],
   "source": []
  },
  {
   "cell_type": "code",
   "execution_count": null,
   "id": "49809b5d",
   "metadata": {},
   "outputs": [],
   "source": []
  },
  {
   "cell_type": "code",
   "execution_count": null,
   "id": "721b8358",
   "metadata": {},
   "outputs": [],
   "source": []
  },
  {
   "cell_type": "code",
   "execution_count": null,
   "id": "2d8a2b96",
   "metadata": {},
   "outputs": [],
   "source": []
  },
  {
   "cell_type": "code",
   "execution_count": null,
   "id": "70249015",
   "metadata": {},
   "outputs": [],
   "source": []
  },
  {
   "cell_type": "code",
   "execution_count": null,
   "id": "329e80a7",
   "metadata": {},
   "outputs": [],
   "source": []
  },
  {
   "cell_type": "code",
   "execution_count": null,
   "id": "569bfaf2",
   "metadata": {},
   "outputs": [],
   "source": []
  },
  {
   "cell_type": "code",
   "execution_count": null,
   "id": "a53403b1",
   "metadata": {},
   "outputs": [],
   "source": []
  },
  {
   "cell_type": "code",
   "execution_count": null,
   "id": "19fe60b5",
   "metadata": {},
   "outputs": [],
   "source": []
  },
  {
   "cell_type": "code",
   "execution_count": null,
   "id": "bc1cc459",
   "metadata": {},
   "outputs": [],
   "source": []
  },
  {
   "cell_type": "code",
   "execution_count": null,
   "id": "a76c9682",
   "metadata": {},
   "outputs": [],
   "source": []
  },
  {
   "cell_type": "code",
   "execution_count": null,
   "id": "fd1d16af",
   "metadata": {},
   "outputs": [],
   "source": []
  },
  {
   "cell_type": "code",
   "execution_count": null,
   "id": "865fa55d",
   "metadata": {},
   "outputs": [],
   "source": []
  },
  {
   "cell_type": "code",
   "execution_count": null,
   "id": "ef7ccfad",
   "metadata": {},
   "outputs": [],
   "source": []
  },
  {
   "cell_type": "code",
   "execution_count": null,
   "id": "7da8ecc7",
   "metadata": {},
   "outputs": [],
   "source": []
  }
 ],
 "metadata": {
  "kernelspec": {
   "display_name": "Python 3 (ipykernel)",
   "language": "python",
   "name": "python3"
  },
  "language_info": {
   "codemirror_mode": {
    "name": "ipython",
    "version": 3
   },
   "file_extension": ".py",
   "mimetype": "text/x-python",
   "name": "python",
   "nbconvert_exporter": "python",
   "pygments_lexer": "ipython3",
   "version": "3.11.5"
  }
 },
 "nbformat": 4,
 "nbformat_minor": 5
}

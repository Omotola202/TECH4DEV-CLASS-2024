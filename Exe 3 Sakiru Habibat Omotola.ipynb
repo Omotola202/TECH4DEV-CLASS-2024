{
 "cells": [
  {
   "cell_type": "markdown",
   "id": "ce7dbaf2",
   "metadata": {},
   "source": [
    "# Question 1\n",
    "Write a program that finds the maximum value of the given list, assuming that the list\n",
    "\n",
    "Contains at least one element.\n",
    "\n",
    "Try your program with the following array\n",
    "\n",
    "2 4 7 4 23 5 1 4 8 9\n"
   ]
  },
  {
   "cell_type": "code",
   "execution_count": 12,
   "id": "824fd3f6",
   "metadata": {},
   "outputs": [
    {
     "name": "stdout",
     "output_type": "stream",
     "text": [
      "23\n"
     ]
    }
   ],
   "source": [
    "# Given list\n",
    "given_list = [2, 4, 7, 4, 23, 5, 1, 4, 8, 9]\n",
    "\n",
    "# Find maximum value\n",
    "max_value = max(given_list)\n",
    "print(max_value)\n"
   ]
  },
  {
   "cell_type": "markdown",
   "id": "40735e2c",
   "metadata": {},
   "source": [
    "# Question 2\n",
    "Write a program that calculates the average value of the given list.\n",
    "\n",
    "Try your program with the following list\n",
    "\n",
    "4 7 1 5 11 53 12 46 84 23\n",
    "\n"
   ]
  },
  {
   "cell_type": "code",
   "execution_count": 14,
   "id": "55243b1c",
   "metadata": {},
   "outputs": [
    {
     "name": "stdout",
     "output_type": "stream",
     "text": [
      "24.6\n"
     ]
    }
   ],
   "source": [
    "# Given list\n",
    "given_list = [4, 7, 1, 5, 11, 53, 12, 46, 84, 23]\n",
    "\n",
    "# Calculate average\n",
    "average_value = sum(given_list) / len(given_list)\n",
    "print(average_value)\n"
   ]
  },
  {
   "cell_type": "markdown",
   "id": "36df047e",
   "metadata": {},
   "source": [
    "# Question 3\n",
    "Write a program that prints the given list of integers in reverse order.\n",
    "Try your program with the following list\n",
    "2 6 7 45 23 53 14 45 89 5\n",
    " \n",
    "\n"
   ]
  },
  {
   "cell_type": "code",
   "execution_count": 16,
   "id": "2e150191",
   "metadata": {},
   "outputs": [
    {
     "name": "stdout",
     "output_type": "stream",
     "text": [
      "[5, 89, 45, 14, 53, 23, 45, 7, 6, 2]\n"
     ]
    }
   ],
   "source": [
    "# Given list\n",
    "given_list = [2, 6, 7, 45, 23, 53, 14, 45, 89, 5]\n",
    "\n",
    "# Print list in reverse order\n",
    "reversed_list = list(reversed(given_list))\n",
    "print(reversed_list)\n"
   ]
  },
  {
   "cell_type": "markdown",
   "id": "4ea1481f",
   "metadata": {},
   "source": [
    "# Question 4\n",
    "Write a program that accepts two lists of integers and prints true if each element in the first \n",
    "\n",
    "list is less than the element at the same index in the second list. Your program should print \n",
    "\n",
    "false if the lists are not the same length.\n",
    "\n"
   ]
  },
  {
   "cell_type": "code",
   "execution_count": 20,
   "id": "3d6aca33",
   "metadata": {},
   "outputs": [
    {
     "name": "stdout",
     "output_type": "stream",
     "text": [
      "True\n"
     ]
    }
   ],
   "source": [
    "\n",
    "# Given lists\n",
    "First_list = [4, 6, 8, 2]\n",
    "Second_list = [5, 7, 9, 3]\n",
    "\n",
    "# Check if lists are of the same lengthi\n",
    "if len(First_list) != len(Second_list):\n",
    "    print(False)\n",
    "else:\n",
    "    # Check if each element in the first list is less than the element at the same index in the second list\n",
    "    result = all(First_list[i] < Second_list[i] for i in range(len(First_list)))\n",
    "    print(result)\n"
   ]
  },
  {
   "cell_type": "markdown",
   "id": "d0175c66",
   "metadata": {},
   "source": [
    "# Question 5\n",
    "Write a program that accepts a list of integers and two indexes and swaps the elements at \n",
    "those indexes\n",
    " \n",
    "\n"
   ]
  },
  {
   "cell_type": "code",
   "execution_count": 22,
   "id": "733122ff",
   "metadata": {},
   "outputs": [
    {
     "name": "stdout",
     "output_type": "stream",
     "text": [
      "[1, 4, 3, 2, 5]\n"
     ]
    }
   ],
   "source": [
    "# Given list\n",
    "given_list = [1, 2, 3, 4, 5]\n",
    "\n",
    "# Indexes to swap\n",
    "index1, index2 = 1, 3\n",
    "\n",
    "# Swap elements at indexes\n",
    "given_list[index1], given_list[index2] = given_list[index2], given_list[index1]\n",
    "print(given_list)\n"
   ]
  },
  {
   "cell_type": "markdown",
   "id": "9a5568f3",
   "metadata": {},
   "source": [
    "# Question 6\n",
    "Write a program that accepts two lists of integers and prints a new list containing all \n",
    "elements of the first list followed by all elements of the second.\n",
    "\n",
    "\n"
   ]
  },
  {
   "cell_type": "code",
   "execution_count": 28,
   "id": "dde19970",
   "metadata": {},
   "outputs": [
    {
     "name": "stdout",
     "output_type": "stream",
     "text": [
      "[1, 2, 3, 4, 5, 6]\n",
      "[1, 2, 3, 4, 5, 6]\n"
     ]
    }
   ],
   "source": [
    "# Given lists\n",
    "first_list = [1, 2, 3]\n",
    "second_list = [4, 5, 6]\n",
    "\n",
    "# Merge lists\n",
    "merged_list = first_list + second_list\n",
    "print(merged_list)\n",
    "\n",
    "# Merge lists another method\n",
    "first_list.extend(second_list)\n",
    "print(first_list)"
   ]
  },
  {
   "cell_type": "markdown",
   "id": "28a17968",
   "metadata": {},
   "source": [
    "# Question 7\n",
    "Write a program that accepts a list of integers and an integer value as its parameters and \n",
    "\n",
    "Prints the last index at which the value occurs in the list. The program should print –1 if the \n",
    "\n",
    "Value is not found. For example, in the list [74, 85, 102, 99, 101, 85, 56], the last index of the \n",
    "\n",
    "Value 85 is 5.\n",
    "\n",
    "\n"
   ]
  },
  {
   "cell_type": "code",
   "execution_count": 3,
   "id": "d5a5425c",
   "metadata": {},
   "outputs": [
    {
     "name": "stdout",
     "output_type": "stream",
     "text": [
      "The last index of 85 is 5\n"
     ]
    }
   ],
   "source": [
    "def last_index(m_list, value):\n",
    "    #set the index to -1 (not found)\n",
    "    last_index = -1\n",
    "    for x in range (len(m_list)-1,-1,-1):\n",
    "        if m_list[x] == value:\n",
    "            last_index = x\n",
    "            break\n",
    "    return last_index\n",
    "m_list = [74, 85, 102, 99, 101, 85, 56] \n",
    "search_value = 85\n",
    "result = last_index(m_list, search_value)\n",
    "\n",
    "print(f\"The last index of {search_value} is {result}\")\n",
    "\n"
   ]
  },
  {
   "cell_type": "markdown",
   "id": "3e42de0c",
   "metadata": {},
   "source": [
    "# Question 8\n",
    "Write a program that prints the range of values in a list of integers. The range is defined as 1 \n",
    "More than the difference between the maximum and minimum values in the list. For \n",
    "Example, if a list contains the values [36, 12, 25, 19, 46, 31, 22], the program should return \n",
    "35. You may assume that the list has at least one element.\n",
    "\n",
    "\n",
    "\n"
   ]
  },
  {
   "cell_type": "code",
   "execution_count": 40,
   "id": "0b796e4c",
   "metadata": {},
   "outputs": [
    {
     "name": "stdout",
     "output_type": "stream",
     "text": [
      "35\n"
     ]
    }
   ],
   "source": [
    "# Given list\n",
    "given_list = [36, 12, 25, 19, 46, 31, 22]\n",
    "\n",
    "# Find range\n",
    "range_value = max(given_list) - min(given_list) + 1\n",
    "print(range_value)\n",
    "\n"
   ]
  },
  {
   "cell_type": "markdown",
   "id": "5618e46a",
   "metadata": {},
   "source": [
    "# Question 9\n",
    "Write a program that accepts a list of integers, a minimum value, and a maximum value and \n",
    "\n",
    "Prints the count of how many elements from the list fall between the minimum and \n",
    "\n",
    "Maximum (inclusive). For example, in the list [14, 1, 22, 17, 36, 7, -43, 5], for minimum value \n",
    "\n",
    "4 and maximum value 17, there are four elements whose values fall between 4 and 17.\n",
    "\n"
   ]
  },
  {
   "cell_type": "code",
   "execution_count": 43,
   "id": "3daf785b",
   "metadata": {},
   "outputs": [
    {
     "name": "stdout",
     "output_type": "stream",
     "text": [
      "4\n"
     ]
    }
   ],
   "source": [
    "# Given list\n",
    "given_list = [14, 1, 22, 17, 36, 7, -43, 5]\n",
    "\n",
    "# Minimum and Maximum values\n",
    "minimum_value = 4\n",
    "maximum_value = 17\n",
    "\n",
    "\n",
    "# Count elements within the range\n",
    "count = sum(1 for element in given_list if minimum_value <= element <= maximum_value)\n",
    "print(count)\n"
   ]
  },
  {
   "cell_type": "markdown",
   "id": "525037ca",
   "metadata": {},
   "source": [
    "# Question 10\n",
    "Write a program that accepts a list of real numbers and prints true if the list is in sorted \n",
    "\n",
    "(non-decreasing) order and false otherwise. For example, if lists named list1 and list2 store \n",
    "\n",
    "[16.1, 12.3, 22.2, 14.4] and [1.5, 4.3, 7.0, 19.5, 25.1, 46.2] respectively, the program should \n",
    "\n",
    "Print false for list1 and true for list2 respectively. Assume the list has at least one element. A \n",
    "\n",
    "One-element list is sorted.\n",
    "\n",
    "\n"
   ]
  },
  {
   "cell_type": "code",
   "execution_count": 45,
   "id": "a5feafb0",
   "metadata": {},
   "outputs": [
    {
     "name": "stdout",
     "output_type": "stream",
     "text": [
      "False\n",
      "True\n"
     ]
    }
   ],
   "source": [
    "# Given lists\n",
    "list1 = [16.1, 12.3, 22.2, 14.4]\n",
    "list2 = [1.5, 4.3, 7.0, 19.5, 25.1, 46.2]\n",
    "\n",
    "# Function to check if a list is sorted (nondecreasing)\n",
    "def is_sorted(input_list):\n",
    "    return all(input_list[i] <= input_list[i + 1] for i in range(len(input_list) - 1))\n",
    "\n",
    "# Check if the lists are sorted\n",
    "result_list1 = is_sorted(list1)\n",
    "result_list2 = is_sorted(list2)\n",
    "\n",
    "print(result_list1)  # False for list1\n",
    "print(result_list2)  # True for list2\n"
   ]
  },
  {
   "cell_type": "code",
   "execution_count": null,
   "id": "d496f257",
   "metadata": {},
   "outputs": [],
   "source": []
  },
  {
   "cell_type": "code",
   "execution_count": null,
   "id": "e8ddd62b",
   "metadata": {},
   "outputs": [],
   "source": []
  },
  {
   "cell_type": "code",
   "execution_count": null,
   "id": "937c9670",
   "metadata": {},
   "outputs": [],
   "source": []
  },
  {
   "cell_type": "code",
   "execution_count": null,
   "id": "b61c8b7d",
   "metadata": {},
   "outputs": [],
   "source": []
  }
 ],
 "metadata": {
  "kernelspec": {
   "display_name": "Python 3 (ipykernel)",
   "language": "python",
   "name": "python3"
  },
  "language_info": {
   "codemirror_mode": {
    "name": "ipython",
    "version": 3
   },
   "file_extension": ".py",
   "mimetype": "text/x-python",
   "name": "python",
   "nbconvert_exporter": "python",
   "pygments_lexer": "ipython3",
   "version": "3.11.5"
  }
 },
 "nbformat": 4,
 "nbformat_minor": 5
}

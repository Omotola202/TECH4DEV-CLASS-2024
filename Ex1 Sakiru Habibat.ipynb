{
 "cells": [
  {
   "cell_type": "markdown",
   "id": "c3a2da7c",
   "metadata": {},
   "source": [
    "# Q1\n",
    "What is the output of the following print statements?\n"
   ]
  },
  {
   "cell_type": "code",
   "execution_count": 2,
   "id": "54123106",
   "metadata": {},
   "outputs": [
    {
     "name": "stdout",
     "output_type": "stream",
     "text": [
      "\ta\tb\tc\n",
      "\\\\\n",
      " ' \n",
      "\"\"\"\n",
      "C:\n",
      "in\the downward spiral\n"
     ]
    }
   ],
   "source": [
    "print(\"\\ta\\tb\\tc\")\n",
    "print(\"\\\\\\\\\")\n",
    "print(\" ' \")\n",
    "print(\"\\\"\\\"\\\"\")\n",
    "print(\"C:\\nin\\the downward spiral\")"
   ]
  },
  {
   "cell_type": "markdown",
   "id": "b8576a61",
   "metadata": {},
   "source": [
    "# Q2\n",
    "Write a print statement to produce this output:\n",
    "/ \\ // \\\\ /// \\\\\\\n"
   ]
  },
  {
   "cell_type": "code",
   "execution_count": 3,
   "id": "fa1fd837",
   "metadata": {},
   "outputs": [
    {
     "name": "stdout",
     "output_type": "stream",
     "text": [
      "/ \\ // \\\\ /// \\\\\\\n"
     ]
    }
   ],
   "source": [
    "print(\"/ \\\\ // \\\\\\\\ /// \\\\\\\\\\\\\")"
   ]
  },
  {
   "cell_type": "markdown",
   "id": "bc214046",
   "metadata": {},
   "source": [
    "# Q3\n",
    "What print statements will generate this output?\n",
    "This quote is from Irish poet Oscar Wilde:\n",
    "\"Music makes one feel so romantic\n",
    "- at least it always gets on one's nerves – \n",
    "which is the same thing nowadays.\"\n"
   ]
  },
  {
   "cell_type": "code",
   "execution_count": 4,
   "id": "bf54d6b6",
   "metadata": {},
   "outputs": [
    {
     "name": "stdout",
     "output_type": "stream",
     "text": [
      "This quote is from Irish poet Oscar Wilde:\n",
      "\"Music makes one feel so romantic\n",
      "- at least it always gets on one's nerves -\n",
      "which is the same thing nowadays.\"\n"
     ]
    }
   ],
   "source": [
    "print('This quote is from Irish poet Oscar Wilde:')\n",
    "print('\"Music makes one feel so romantic')\n",
    "print('- at least it always gets on one\\'s nerves -')\n",
    "print('which is the same thing nowadays.\"')\n"
   ]
  },
  {
   "cell_type": "markdown",
   "id": "2da296d0",
   "metadata": {},
   "source": [
    "# Q4\n",
    "4.\tWhat print statements will generate this output?\n",
    "A \"quoted\" String is 'much' better if you learn\n",
    "the rules of \"escape sequences.\" Also, \"\" represents an empty String. Don't forget: use \\\" instead of \" ! '' is not the same as \"\n",
    "\n"
   ]
  },
  {
   "cell_type": "code",
   "execution_count": 5,
   "id": "8ede38b7",
   "metadata": {},
   "outputs": [
    {
     "name": "stdout",
     "output_type": "stream",
     "text": [
      "A \"quoted\" String is\n",
      "'much' better if you learn\n",
      "the rules of \"escape sequences.\"\n",
      "Also, \"\" represents an empty String.\n",
      "Don't forget: use \\\" instead of \" !\n",
      "'' is not the same as \"\n"
     ]
    }
   ],
   "source": [
    "print('A \"quoted\" String is')\n",
    "print(\"'much' better if you learn\")\n",
    "print('the rules of \"escape sequences.\"')\n",
    "print('Also, \"\" represents an empty String.')\n",
    "print('Don\\'t forget: use \\\\\" instead of \" !')\n",
    "print(\"'' is not the same as \\\"\")\n"
   ]
  },
  {
   "cell_type": "markdown",
   "id": "fae01c0c",
   "metadata": {},
   "source": [
    "# Q5\n",
    "What values result from the following expressions?"
   ]
  },
  {
   "cell_type": "code",
   "execution_count": 8,
   "id": "6b5268ec",
   "metadata": {},
   "outputs": [
    {
     "name": "stdout",
     "output_type": "stream",
     "text": [
      "1.8\n",
      "15\n",
      "37\n",
      "47\n",
      "9.6\n",
      "15.75\n",
      "-8\n",
      "9\n"
     ]
    }
   ],
   "source": [
    "print(9 / 5)\n",
    "\n",
    "print(695 % 20)\n",
    "\n",
    "print(7 + 6 * 5)\n",
    "\n",
    "print(7 * 6 + 5)\n",
    "\n",
    "print(248 % 100 / 5)\n",
    "\n",
    "print(6 * 3 - 9 / 4)\n",
    "\n",
    "print((5 - 7) * 4)\n",
    "\n",
    "print(6 + (18 % (17 - 12)))\n"
   ]
  },
  {
   "cell_type": "code",
   "execution_count": null,
   "id": "d22e8e1c",
   "metadata": {},
   "outputs": [],
   "source": []
  },
  {
   "cell_type": "code",
   "execution_count": null,
   "id": "747eb1d8",
   "metadata": {},
   "outputs": [],
   "source": []
  },
  {
   "cell_type": "code",
   "execution_count": null,
   "id": "94bbc5db",
   "metadata": {},
   "outputs": [],
   "source": []
  },
  {
   "cell_type": "code",
   "execution_count": null,
   "id": "e1cf377b",
   "metadata": {},
   "outputs": [],
   "source": []
  }
 ],
 "metadata": {
  "kernelspec": {
   "display_name": "Python 3 (ipykernel)",
   "language": "python",
   "name": "python3"
  },
  "language_info": {
   "codemirror_mode": {
    "name": "ipython",
    "version": 3
   },
   "file_extension": ".py",
   "mimetype": "text/x-python",
   "name": "python",
   "nbconvert_exporter": "python",
   "pygments_lexer": "ipython3",
   "version": "3.11.5"
  }
 },
 "nbformat": 4,
 "nbformat_minor": 5
}
